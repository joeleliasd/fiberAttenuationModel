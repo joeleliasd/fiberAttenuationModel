{
 "cells": [
  {
   "cell_type": "code",
   "execution_count": 1,
   "id": "60c8b703-6551-4419-9daf-a0c58158bbd2",
   "metadata": {},
   "outputs": [
    {
     "name": "stdout",
     "output_type": "stream",
     "text": [
      "Welcome to JupyROOT 6.24/08\n"
     ]
    }
   ],
   "source": [
    "import ROOT\n",
    "import numpy as np\n",
    "import matplotlib.pyplot as plt\n",
    "from iminuit import Minuit\n",
    "\n",
    "Val_zy = []      # Points with hits\n",
    "new_Val_zy = []  # After removing outliers\n",
    "Ang = []         # Angles (in rad)\n",
    "Ex=[]            # events thrown out (excluded)\n",
    "\n",
    "# a linear function z=A-y*tan(a)\n",
    "def path_yz(a,y,A):\n",
    "    return A - np.tan(a)*y\n",
    "\n",
    "def rough_minimize_path_yz(a,A):\n",
    "    Sum = 0\n",
    "    for i in range(len(Val_zy)):\n",
    "        res = (Val_zy[i][0]-path_yz(a,Val_zy[i][1],A))\n",
    "        Sum = Sum + res**2\n",
    "    return Sum\n",
    "\n",
    "# calculates distance from fit and throws outliers during fit\n",
    "def minimize_path_yz(a,A):\n",
    "    Sum = 0\n",
    "    new_Val_zy.clear()\n",
    "    for i in range(len(Val_zy)):\n",
    "        y_p = ((A-Val_zy[i][0])*np.sin(2*a)/2+Val_zy[i][1])*(np.cos(a))**2   # point on fit closest to hit\n",
    "        dist = np.sqrt((Val_zy[i][0]-path_yz(a,y_p,A))**2 + (Val_zy[i][1]-y_p)**2)\n",
    "        if dist<15:\n",
    "            new_Val_zy.append([Val_zy[i][0],Val_zy[i][1]])\n",
    "            res = (Val_zy[i][0]-path_yz(a,Val_zy[i][1],A))\n",
    "            Sum = Sum + res**2\n",
    "    return Sum\n",
    "\n",
    "# should be redundant (but sometimes isn't for some reason)\n",
    "def final_minimize_path_yz(a,A):\n",
    "    Sum = 0\n",
    "    for i in range(len(new_Val_zy)):\n",
    "        res = (new_Val_zy[i][0]-path_yz(a,new_Val_zy[i][1],A))\n",
    "        Sum = Sum + res**2\n",
    "    return Sum"
   ]
  },
  {
   "cell_type": "code",
   "execution_count": 2,
   "id": "0ac1bcd2-2a33-41d6-8c7f-173c0b3d3b00",
   "metadata": {},
   "outputs": [],
   "source": [
    "#Load Root File\n",
    "Run=4177\n",
    "file=ROOT.TFile(f\"AngDist/SFGFlatTrees/SFGFlat_{Run}/output/SFGFlat_{Run}_0.root\",\"OLD\") \n",
    "\n",
    "#Load Tree names \"HitInfo\"\n",
    "tree=file.Get(\"HitInfo\") \n",
    "\n",
    "# Loop through branches and print their names:\n",
    "branch_list = tree.GetListOfBranches()\n",
    "treename=tree.GetName()    \n",
    "# Get number of Events in Tree:\n",
    "nevents=tree.GetEntries()"
   ]
  },
  {
   "cell_type": "code",
   "execution_count": 11,
   "id": "5e48a6ef-c319-46a6-90ce-1c4d8e03681f",
   "metadata": {},
   "outputs": [
    {
     "ename": "KeyboardInterrupt",
     "evalue": "",
     "output_type": "error",
     "traceback": [
      "\u001b[0;31m---------------------------------------------------------------------------\u001b[0m",
      "\u001b[0;31mKeyboardInterrupt\u001b[0m                         Traceback (most recent call last)",
      "\u001b[0;32m<ipython-input-11-13ccbe2b4e3c>\u001b[0m in \u001b[0;36m<module>\u001b[0;34m\u001b[0m\n\u001b[1;32m      4\u001b[0m \u001b[0;32mfor\u001b[0m \u001b[0mevent\u001b[0m \u001b[0;32min\u001b[0m \u001b[0mrange\u001b[0m\u001b[0;34m(\u001b[0m\u001b[0mnevents\u001b[0m\u001b[0;34m)\u001b[0m\u001b[0;34m:\u001b[0m\u001b[0;34m\u001b[0m\u001b[0;34m\u001b[0m\u001b[0m\n\u001b[1;32m      5\u001b[0m     \u001b[0;31m# fills Val_zy with an event\u001b[0m\u001b[0;34m\u001b[0m\u001b[0;34m\u001b[0m\u001b[0;34m\u001b[0m\u001b[0m\n\u001b[0;32m----> 6\u001b[0;31m     \u001b[0mtree\u001b[0m\u001b[0;34m.\u001b[0m\u001b[0mDraw\u001b[0m\u001b[0;34m(\u001b[0m\u001b[0;34m\"ypos:zpos >> aneventYZ\"\u001b[0m\u001b[0;34m,\u001b[0m\u001b[0;34mf\"pe_side*(eventNumber=={event} && pe_side>10)\"\u001b[0m\u001b[0;34m,\u001b[0m\u001b[0;34m\"colz\"\u001b[0m\u001b[0;34m)\u001b[0m\u001b[0;34m\u001b[0m\u001b[0;34m\u001b[0m\u001b[0m\n\u001b[0m\u001b[1;32m      7\u001b[0m     \u001b[0mVal_zy\u001b[0m\u001b[0;34m.\u001b[0m\u001b[0mclear\u001b[0m\u001b[0;34m(\u001b[0m\u001b[0;34m)\u001b[0m\u001b[0;34m\u001b[0m\u001b[0;34m\u001b[0m\u001b[0m\n\u001b[1;32m      8\u001b[0m     \u001b[0;32mfor\u001b[0m \u001b[0mBinZ\u001b[0m \u001b[0;32min\u001b[0m \u001b[0mrange\u001b[0m\u001b[0;34m(\u001b[0m\u001b[0;36m1\u001b[0m\u001b[0;34m,\u001b[0m\u001b[0;36m183\u001b[0m\u001b[0;34m)\u001b[0m\u001b[0;34m:\u001b[0m\u001b[0;34m\u001b[0m\u001b[0;34m\u001b[0m\u001b[0m\n",
      "\u001b[0;31mKeyboardInterrupt\u001b[0m: "
     ]
    },
    {
     "name": "stderr",
     "output_type": "stream",
     "text": [
      "Warning in <TFile::Append>: Replacing existing TH1: aneventYZ (Potential memory leak).\n"
     ]
    }
   ],
   "source": [
    "Ang.clear()\n",
    "aneventYZ=ROOT.TH2D(\"aneventYZ\",\"\",182,1,183,56,1,57) #a 2D histogram to store\n",
    "\n",
    "for event in range(nevents):\n",
    "    # fills Val_zy with an event\n",
    "    tree.Draw(\"ypos:zpos >> aneventYZ\",f\"pe_side*(eventNumber=={event} && pe_side>10)\",\"colz\")\n",
    "    Val_zy.clear()\n",
    "    for BinZ in range(1,183):\n",
    "        for BinY in range(1,57):\n",
    "            content=aneventYZ.GetBinContent(BinZ,BinY)\n",
    "            if content>10:\n",
    "                Val_zy.append([BinZ,BinY])\n",
    "                \n",
    "    if len(Val_zy) > 20: \n",
    "        # rough fit\n",
    "        rough_fit_Min = Minuit(rough_minimize_path_yz, a=0, A=91)\n",
    "        rough_fit_Min.migrad()\n",
    "        \n",
    "        # middle refined fit\n",
    "        mfit_Min = Minuit(minimize_path_yz, a=rough_fit_Min.values['a'], A=rough_fit_Min.values['A'])\n",
    "        mfit_Min.migrad()\n",
    "        \n",
    "        if len(new_Val_zy) > 7: # makes sure there's still enough data to fit\n",
    "            # refined fit\n",
    "            fit_Min = Minuit(final_minimize_path_yz, a=mfit_Min.values['a'], A=mfit_Min.values['A'])\n",
    "            fit_Min.migrad()\n",
    "            \n",
    "            # forces -pi/2 < angle < pi/2 \n",
    "            while fit_Min.values['a']<-np.pi/2 or fit_Min.values['a']>np.pi/2: \n",
    "                if fit_Min.values['a']<-np.pi/2:\n",
    "                    fit_Min.values['a'] += np.pi\n",
    "                elif fit_Min.values['a']>np.pi/2:\n",
    "                    fit_Min.values['a'] += -np.pi\n",
    "            Ang.append(fit_Min.values['a'])\n",
    "            \n",
    "        else:\n",
    "            Ex.append(event)\n",
    "\n",
    "len(Ang)"
   ]
  },
  {
   "cell_type": "code",
   "execution_count": 12,
   "id": "c674e5b5-1315-46f4-bfd4-80ceb6d2e4ca",
   "metadata": {},
   "outputs": [
    {
     "data": {
      "text/plain": [
       "3477"
      ]
     },
     "execution_count": 12,
     "metadata": {},
     "output_type": "execute_result"
    }
   ],
   "source": [
    "len(Ang)"
   ]
  },
  {
   "cell_type": "code",
   "execution_count": 13,
   "id": "ecd7bce2-56e2-4697-8755-1494bbf423f8",
   "metadata": {},
   "outputs": [
    {
     "data": {
      "image/png": "[encoded data removed]",
      "text/plain": [
       "<Figure size 432x288 with 1 Axes>"
      ]
     },
     "metadata": {
      "needs_background": "light"
     },
     "output_type": "display_data"
    },
    {
     "data": {
      "image/png": "[encoded data removed]",
      "text/plain": [
       "<Figure size 432x288 with 1 Axes>"
      ]
     },
     "metadata": {
      "needs_background": "light"
     },
     "output_type": "display_data"
    }
   ],
   "source": [
    "# Distribution of angles\n",
    "\n",
    "plt.hist(Ang, bins=40)\n",
    "plt.show()\n",
    "\n",
    "plt.hist(np.cos(Ang), bins=40)\n",
    "plt.show()"
   ]
  },
  {
   "cell_type": "code",
   "execution_count": 14,
   "id": "5ca49a6d-4e08-4611-bad4-8fd4350d0718",
   "metadata": {},
   "outputs": [
    {
     "data": {
      "text/plain": [
       "170"
      ]
     },
     "execution_count": 14,
     "metadata": {},
     "output_type": "execute_result"
    }
   ],
   "source": [
    "len(Ex)"
   ]
  },
  {
   "cell_type": "code",
   "execution_count": 15,
   "id": "c1f221e3-4a0b-40d4-a5d8-d9028470612b",
   "metadata": {},
   "outputs": [
    {
     "data": {
      "text/plain": [
       "0.04665203073545554"
      ]
     },
     "execution_count": 15,
     "metadata": {},
     "output_type": "execute_result"
    }
   ],
   "source": [
    "# Fraction thrown out\n",
    "len(Ex)/event"
   ]
  },
  {
   "cell_type": "code",
   "execution_count": null,
   "id": "14fe1d57-e08b-46a0-9f02-e1dba529f18a",
   "metadata": {},
   "outputs": [],
   "source": []
  }
 ],
 "metadata": {
  "kernelspec": {
   "display_name": "Python 3",
   "language": "python",
   "name": "python3"
  },
  "language_info": {
   "codemirror_mode": {
    "name": "ipython",
    "version": 3
   },
   "file_extension": ".py",
   "mimetype": "text/x-python",
   "name": "python",
   "nbconvert_exporter": "python",
   "pygments_lexer": "ipython3",
   "version": "3.6.8"
  }
 },
 "nbformat": 4,
 "nbformat_minor": 5
}
